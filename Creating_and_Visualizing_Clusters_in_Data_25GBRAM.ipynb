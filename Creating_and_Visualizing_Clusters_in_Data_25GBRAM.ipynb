{
  "nbformat": 4,
  "nbformat_minor": 0,
  "metadata": {
    "colab": {
      "name": "Creating and Visualizing Clusters in Data_25GBRAM.ipynb",
      "provenance": [],
      "collapsed_sections": [],
      "machine_shape": "hm"
    },
    "kernelspec": {
      "name": "python3",
      "display_name": "Python 3"
    }
  },
  "cells": [
    {
      "cell_type": "code",
      "metadata": {
        "id": "aR51XTIYd598",
        "colab_type": "code",
        "colab": {
          "base_uri": "https://localhost:8080/",
          "height": 34
        },
        "outputId": "da7ea9da-cdd2-4b39-d01f-4b55e566310e"
      },
      "source": [
        "# Mount Colab\n",
        "from google.colab import drive\n",
        "drive.mount('/content/drive/')"
      ],
      "execution_count": null,
      "outputs": [
        {
          "output_type": "stream",
          "text": [
            "Drive already mounted at /content/drive/; to attempt to forcibly remount, call drive.mount(\"/content/drive/\", force_remount=True).\n"
          ],
          "name": "stdout"
        }
      ]
    },
    {
      "cell_type": "code",
      "metadata": {
        "id": "ggeaUmaWd6f6",
        "colab_type": "code",
        "colab": {}
      },
      "source": [
        "# Setting the current working directory\n",
        "import os; os.chdir('/content/drive/My Drive/Colab Notebooks/Fast Trax Data/dataset')"
      ],
      "execution_count": null,
      "outputs": []
    },
    {
      "cell_type": "code",
      "metadata": {
        "id": "zDrhTVPJeSib",
        "colab_type": "code",
        "colab": {}
      },
      "source": [
        "import pandas as pd\n",
        "import numpy as np\n",
        "\n",
        "# Dependencies for Clustering\n",
        "from sklearn.cluster import KMeans\n",
        "from sklearn.preprocessing import MinMaxScaler\n",
        "from sklearn import preprocessing\n",
        "\n",
        "# For reducing the number of dimensions i.e. decomposition of features\n",
        "from sklearn.decomposition import PCA  "
      ],
      "execution_count": null,
      "outputs": []
    },
    {
      "cell_type": "markdown",
      "metadata": {
        "id": "YmLHsO85eIE4",
        "colab_type": "text"
      },
      "source": [
        "# Step 1 :Import Pickle as Dataframe"
      ]
    },
    {
      "cell_type": "code",
      "metadata": {
        "id": "IXUa2yyyeC8Q",
        "colab_type": "code",
        "colab": {}
      },
      "source": [
        "# Importing Converted 2 Million Data Records\n",
        "\n",
        "df = pd.read_pickle('converted_data_complete.pkl')"
      ],
      "execution_count": null,
      "outputs": []
    },
    {
      "cell_type": "code",
      "metadata": {
        "id": "T0crcxaDeQP4",
        "colab_type": "code",
        "colab": {}
      },
      "source": [
        "relevant_features = [ 'coordinates',  'speed',  'imei', 'insertionTimeString', 'timeString', 'deltaDistance', \"siteName'\"]"
      ],
      "execution_count": null,
      "outputs": []
    },
    {
      "cell_type": "code",
      "metadata": {
        "id": "U53KygmBfoow",
        "colab_type": "code",
        "colab": {}
      },
      "source": [
        "# del df\n",
        "for col in df.columns:\n",
        "  if col not in relevant_features:\n",
        "    del df[col]"
      ],
      "execution_count": null,
      "outputs": []
    },
    {
      "cell_type": "markdown",
      "metadata": {
        "id": "scY0JxWEkl3I",
        "colab_type": "text"
      },
      "source": [
        "# Step 2 : Feature Engineering\n",
        "---------------\n",
        "## All feature engineering are explained in 'FastTrax_EDA_25GBRAM.ipynb'"
      ]
    },
    {
      "cell_type": "markdown",
      "metadata": {
        "id": "mrynmlKzk1h-",
        "colab_type": "text"
      },
      "source": [
        "### (i) Latitude , Longitude"
      ]
    },
    {
      "cell_type": "code",
      "metadata": {
        "id": "sKNKrvv2fv0h",
        "colab_type": "code",
        "colab": {}
      },
      "source": [
        "# Creating Separate Latitude and Longitude columns from 'coordinate' feature\n",
        "def get_Longitude(a_list):\n",
        "  return a_list[0]\n",
        "\n",
        "def get_Latitude(a_list):\n",
        "  return a_list[1]\n",
        "\n",
        "df['Longitude'] = df['coordinates'].apply(get_Longitude)\n",
        "df['Latitude'] = df['coordinates'].apply(get_Latitude)\n",
        "\n",
        "del df['coordinates']"
      ],
      "execution_count": null,
      "outputs": []
    },
    {
      "cell_type": "markdown",
      "metadata": {
        "id": "uVntUP8Ik-m8",
        "colab_type": "text"
      },
      "source": [
        "### (ii). Time Difference Values"
      ]
    },
    {
      "cell_type": "code",
      "metadata": {
        "id": "2v58MyWIk5eJ",
        "colab_type": "code",
        "colab": {}
      },
      "source": [
        "df['insertionTimeString'] = pd.to_datetime(df['insertionTimeString'])\n",
        "df['timeString'] = pd.to_datetime(df['timeString'])\n",
        "df['time_difference_days'] = (df['insertionTimeString'] - df['timeString']).astype('timedelta64[D]')\n",
        "df['time_difference_hours'] = (df['insertionTimeString'] - df['timeString']).astype('timedelta64[h]')\n",
        "df['time_difference_minutes'] = (df['insertionTimeString'] - df['timeString']).astype('timedelta64[m]')\n",
        "df['time_difference_secs'] = (df['insertionTimeString'] - df['timeString'])/np.timedelta64(1,'s')"
      ],
      "execution_count": null,
      "outputs": []
    },
    {
      "cell_type": "markdown",
      "metadata": {
        "id": "UOOuA89nm8T6",
        "colab_type": "text"
      },
      "source": [
        "## (iii). Creating a List of Overspeeding imei"
      ]
    },
    {
      "cell_type": "code",
      "metadata": {
        "id": "fXoPFW8elC-x",
        "colab_type": "code",
        "colab": {
          "base_uri": "https://localhost:8080/",
          "height": 34
        },
        "outputId": "961381a3-f755-4c5c-a5d4-d8c5e5bdf328"
      },
      "source": [
        "# Creating a list for IMEI numbers who are overspeeding above 80 Kmph\n",
        "overspeedings = df.loc[df['speed'] >= 80, 'imei'].unique().tolist()\n",
        "len(overspeedings)"
      ],
      "execution_count": null,
      "outputs": [
        {
          "output_type": "execute_result",
          "data": {
            "text/plain": [
              "94"
            ]
          },
          "metadata": {
            "tags": []
          },
          "execution_count": 10
        }
      ]
    },
    {
      "cell_type": "markdown",
      "metadata": {
        "id": "R8ZU2Qrhndra",
        "colab_type": "text"
      },
      "source": [
        "# Step 3 : Data to be Consedered for Clustering the riders:\n",
        "### (i)  . Create a feature Overspeeding : (Yes or No)\n",
        "### (ii) . Speed - Normalize the Values\n",
        "### (iii). Time Difference (time_difference_days, time_difference_hours, time_difference_minutes, time_difference_secs)\n",
        "### (iv) . siteName (Create Dummy Variables)\n",
        "### (v).  deltaDistance (Give us a idea about average speed) - Normalize values <br>\n",
        "--------------------"
      ]
    },
    {
      "cell_type": "markdown",
      "metadata": {
        "id": "gvavcfU0niG2",
        "colab_type": "text"
      },
      "source": [
        "### (i). Creating 'Oversped' feature for determining if overspeeding(1) or not(0)"
      ]
    },
    {
      "cell_type": "code",
      "metadata": {
        "id": "3UddeU6MnPsR",
        "colab_type": "code",
        "colab": {}
      },
      "source": [
        "# Create 'Oversped' column with null values\n",
        "df['Oversped'] = 0"
      ],
      "execution_count": null,
      "outputs": []
    },
    {
      "cell_type": "code",
      "metadata": {
        "id": "8CqugXEcnk4x",
        "colab_type": "code",
        "colab": {}
      },
      "source": [
        "# Function to assign 1 value if corresponding speed is > 80 Kmph\n",
        "def create_overspeeding(speed_val):\n",
        "  if speed_val >= 80:\n",
        "    return 1"
      ],
      "execution_count": null,
      "outputs": []
    },
    {
      "cell_type": "code",
      "metadata": {
        "id": "GBUK-3pvnmpx",
        "colab_type": "code",
        "colab": {}
      },
      "source": [
        "# Creating 'Oversped'\n",
        "df['Oversped'] = df['speed'].apply(create_overspeeding)\n",
        "df['Oversped'].fillna(0, inplace=True)"
      ],
      "execution_count": null,
      "outputs": []
    },
    {
      "cell_type": "code",
      "metadata": {
        "id": "Fg9O4u8-np_a",
        "colab_type": "code",
        "colab": {
          "base_uri": "https://localhost:8080/",
          "height": 67
        },
        "outputId": "0e0d9498-7832-48bb-bdd5-32765a3c14a1"
      },
      "source": [
        "# checking count of speeding vs non-speeding\n",
        "df['Oversped'].value_counts()"
      ],
      "execution_count": null,
      "outputs": [
        {
          "output_type": "execute_result",
          "data": {
            "text/plain": [
              "0.0    6569189\n",
              "1.0       3147\n",
              "Name: Oversped, dtype: int64"
            ]
          },
          "metadata": {
            "tags": []
          },
          "execution_count": 14
        }
      ]
    },
    {
      "cell_type": "markdown",
      "metadata": {
        "id": "p5z1RUJanza0",
        "colab_type": "text"
      },
      "source": [
        "### (ii) . Creating a small dataframe for Clustering consisting of relevant features only"
      ]
    },
    {
      "cell_type": "code",
      "metadata": {
        "id": "VdOkCM-UnsTR",
        "colab_type": "code",
        "colab": {}
      },
      "source": [
        "cluster_relevant_features = ['imei', \n",
        "                             'speed', \n",
        "                             'time_difference_days','time_difference_hours', 'time_difference_minutes','time_difference_secs', \n",
        "                             'Oversped',\n",
        "                             \"siteName'\",\n",
        "                             \"deltaDistance\"]"
      ],
      "execution_count": null,
      "outputs": []
    },
    {
      "cell_type": "code",
      "metadata": {
        "id": "nUSR75Y9n2mB",
        "colab_type": "code",
        "colab": {}
      },
      "source": [
        "# Creating a sub dataframe for clustering\n",
        "cluster_calc_df = df[cluster_relevant_features]"
      ],
      "execution_count": null,
      "outputs": []
    },
    {
      "cell_type": "code",
      "metadata": {
        "id": "-6y2mcMpn4gR",
        "colab_type": "code",
        "colab": {}
      },
      "source": [
        "# Dropping all datapoints with null/missing siteName\n",
        "cluster_calc_df = cluster_calc_df[cluster_calc_df[\"siteName'\"] != \"\"]"
      ],
      "execution_count": null,
      "outputs": []
    },
    {
      "cell_type": "code",
      "metadata": {
        "id": "WtQujXDen7WZ",
        "colab_type": "code",
        "colab": {}
      },
      "source": [
        "# Resetting Index after removing some rows\n",
        "cluster_calc_df.reset_index(drop=True, inplace=True)"
      ],
      "execution_count": null,
      "outputs": []
    },
    {
      "cell_type": "code",
      "metadata": {
        "id": "Yhzh6lMVn-Dx",
        "colab_type": "code",
        "colab": {
          "base_uri": "https://localhost:8080/",
          "height": 34
        },
        "outputId": "98c00387-1e79-4497-84a3-1d6c6b2145fa"
      },
      "source": [
        "# Rechecking for any remaining null siteName\n",
        "len(cluster_calc_df[cluster_calc_df[\"siteName'\"] == \"\"])"
      ],
      "execution_count": null,
      "outputs": [
        {
          "output_type": "execute_result",
          "data": {
            "text/plain": [
              "0"
            ]
          },
          "metadata": {
            "tags": []
          },
          "execution_count": 19
        }
      ]
    },
    {
      "cell_type": "markdown",
      "metadata": {
        "id": "gLYI4fk6oD_l",
        "colab_type": "text"
      },
      "source": [
        "### (iii). Creating dummy variables on \"siteName'\" feature as it is catagorical value"
      ]
    },
    {
      "cell_type": "code",
      "metadata": {
        "id": "Y56vLj10oAuh",
        "colab_type": "code",
        "colab": {
          "base_uri": "https://localhost:8080/",
          "height": 34
        },
        "outputId": "f957fad1-3ad3-4b64-d86f-17fa0054d08b"
      },
      "source": [
        "cluster_calc_df.shape"
      ],
      "execution_count": null,
      "outputs": [
        {
          "output_type": "execute_result",
          "data": {
            "text/plain": [
              "(6045170, 9)"
            ]
          },
          "metadata": {
            "tags": []
          },
          "execution_count": 20
        }
      ]
    },
    {
      "cell_type": "code",
      "metadata": {
        "id": "Dh5sPzkYoGwi",
        "colab_type": "code",
        "colab": {}
      },
      "source": [
        "cluster_calc_df = pd.concat([cluster_calc_df.drop(\"siteName'\", axis=1), \n",
        "                             pd.get_dummies(cluster_calc_df[\"siteName'\"])], axis=1)"
      ],
      "execution_count": null,
      "outputs": []
    },
    {
      "cell_type": "code",
      "metadata": {
        "id": "M3Kv0V5eoJ2C",
        "colab_type": "code",
        "colab": {
          "base_uri": "https://localhost:8080/",
          "height": 343
        },
        "outputId": "213fbb8e-d2d6-4139-c18a-5d519a4f113e"
      },
      "source": [
        "cluster_calc_df.head(10)"
      ],
      "execution_count": null,
      "outputs": [
        {
          "output_type": "execute_result",
          "data": {
            "text/html": [
              "<div>\n",
              "<style scoped>\n",
              "    .dataframe tbody tr th:only-of-type {\n",
              "        vertical-align: middle;\n",
              "    }\n",
              "\n",
              "    .dataframe tbody tr th {\n",
              "        vertical-align: top;\n",
              "    }\n",
              "\n",
              "    .dataframe thead th {\n",
              "        text-align: right;\n",
              "    }\n",
              "</style>\n",
              "<table border=\"1\" class=\"dataframe\">\n",
              "  <thead>\n",
              "    <tr style=\"text-align: right;\">\n",
              "      <th></th>\n",
              "      <th>imei</th>\n",
              "      <th>speed</th>\n",
              "      <th>time_difference_days</th>\n",
              "      <th>time_difference_hours</th>\n",
              "      <th>time_difference_minutes</th>\n",
              "      <th>time_difference_secs</th>\n",
              "      <th>Oversped</th>\n",
              "      <th>deltaDistance</th>\n",
              "      <th>Chennai</th>\n",
              "      <th>Maersk Bangalore</th>\n",
              "      <th>Mumbai</th>\n",
              "      <th>Pune</th>\n",
              "    </tr>\n",
              "  </thead>\n",
              "  <tbody>\n",
              "    <tr>\n",
              "      <th>0</th>\n",
              "      <td>356306056969307</td>\n",
              "      <td>10.0</td>\n",
              "      <td>0.0</td>\n",
              "      <td>0.0</td>\n",
              "      <td>0.0</td>\n",
              "      <td>1.0</td>\n",
              "      <td>0.0</td>\n",
              "      <td>0.057193</td>\n",
              "      <td>0</td>\n",
              "      <td>0</td>\n",
              "      <td>0</td>\n",
              "      <td>1</td>\n",
              "    </tr>\n",
              "    <tr>\n",
              "      <th>1</th>\n",
              "      <td>868728032008770</td>\n",
              "      <td>0.0</td>\n",
              "      <td>0.0</td>\n",
              "      <td>0.0</td>\n",
              "      <td>0.0</td>\n",
              "      <td>2.0</td>\n",
              "      <td>0.0</td>\n",
              "      <td>0.000000</td>\n",
              "      <td>0</td>\n",
              "      <td>1</td>\n",
              "      <td>0</td>\n",
              "      <td>0</td>\n",
              "    </tr>\n",
              "    <tr>\n",
              "      <th>2</th>\n",
              "      <td>868728030767575</td>\n",
              "      <td>0.0</td>\n",
              "      <td>0.0</td>\n",
              "      <td>0.0</td>\n",
              "      <td>0.0</td>\n",
              "      <td>2.0</td>\n",
              "      <td>0.0</td>\n",
              "      <td>0.000000</td>\n",
              "      <td>0</td>\n",
              "      <td>1</td>\n",
              "      <td>0</td>\n",
              "      <td>0</td>\n",
              "    </tr>\n",
              "    <tr>\n",
              "      <th>3</th>\n",
              "      <td>868728039207045</td>\n",
              "      <td>0.0</td>\n",
              "      <td>0.0</td>\n",
              "      <td>0.0</td>\n",
              "      <td>0.0</td>\n",
              "      <td>2.0</td>\n",
              "      <td>0.0</td>\n",
              "      <td>0.000000</td>\n",
              "      <td>0</td>\n",
              "      <td>1</td>\n",
              "      <td>0</td>\n",
              "      <td>0</td>\n",
              "    </tr>\n",
              "    <tr>\n",
              "      <th>4</th>\n",
              "      <td>868728030809427</td>\n",
              "      <td>0.0</td>\n",
              "      <td>0.0</td>\n",
              "      <td>0.0</td>\n",
              "      <td>0.0</td>\n",
              "      <td>1.0</td>\n",
              "      <td>0.0</td>\n",
              "      <td>0.000000</td>\n",
              "      <td>0</td>\n",
              "      <td>1</td>\n",
              "      <td>0</td>\n",
              "      <td>0</td>\n",
              "    </tr>\n",
              "    <tr>\n",
              "      <th>5</th>\n",
              "      <td>353612088569350</td>\n",
              "      <td>0.0</td>\n",
              "      <td>0.0</td>\n",
              "      <td>0.0</td>\n",
              "      <td>0.0</td>\n",
              "      <td>2.0</td>\n",
              "      <td>0.0</td>\n",
              "      <td>0.000000</td>\n",
              "      <td>1</td>\n",
              "      <td>0</td>\n",
              "      <td>0</td>\n",
              "      <td>0</td>\n",
              "    </tr>\n",
              "    <tr>\n",
              "      <th>6</th>\n",
              "      <td>356306056165153</td>\n",
              "      <td>0.0</td>\n",
              "      <td>0.0</td>\n",
              "      <td>0.0</td>\n",
              "      <td>0.0</td>\n",
              "      <td>4.0</td>\n",
              "      <td>0.0</td>\n",
              "      <td>0.000000</td>\n",
              "      <td>0</td>\n",
              "      <td>0</td>\n",
              "      <td>0</td>\n",
              "      <td>1</td>\n",
              "    </tr>\n",
              "    <tr>\n",
              "      <th>7</th>\n",
              "      <td>356306054815734</td>\n",
              "      <td>0.2</td>\n",
              "      <td>0.0</td>\n",
              "      <td>0.0</td>\n",
              "      <td>0.0</td>\n",
              "      <td>1.0</td>\n",
              "      <td>0.0</td>\n",
              "      <td>0.000000</td>\n",
              "      <td>0</td>\n",
              "      <td>0</td>\n",
              "      <td>0</td>\n",
              "      <td>1</td>\n",
              "    </tr>\n",
              "    <tr>\n",
              "      <th>8</th>\n",
              "      <td>353612087227729</td>\n",
              "      <td>0.0</td>\n",
              "      <td>0.0</td>\n",
              "      <td>0.0</td>\n",
              "      <td>0.0</td>\n",
              "      <td>0.0</td>\n",
              "      <td>0.0</td>\n",
              "      <td>0.000000</td>\n",
              "      <td>0</td>\n",
              "      <td>0</td>\n",
              "      <td>0</td>\n",
              "      <td>1</td>\n",
              "    </tr>\n",
              "    <tr>\n",
              "      <th>9</th>\n",
              "      <td>353612088021931</td>\n",
              "      <td>0.0</td>\n",
              "      <td>0.0</td>\n",
              "      <td>0.0</td>\n",
              "      <td>0.0</td>\n",
              "      <td>0.0</td>\n",
              "      <td>0.0</td>\n",
              "      <td>0.000000</td>\n",
              "      <td>1</td>\n",
              "      <td>0</td>\n",
              "      <td>0</td>\n",
              "      <td>0</td>\n",
              "    </tr>\n",
              "  </tbody>\n",
              "</table>\n",
              "</div>"
            ],
            "text/plain": [
              "              imei  speed  time_difference_days  ...  Maersk Bangalore  Mumbai  Pune\n",
              "0  356306056969307   10.0                   0.0  ...                 0       0     1\n",
              "1  868728032008770    0.0                   0.0  ...                 1       0     0\n",
              "2  868728030767575    0.0                   0.0  ...                 1       0     0\n",
              "3  868728039207045    0.0                   0.0  ...                 1       0     0\n",
              "4  868728030809427    0.0                   0.0  ...                 1       0     0\n",
              "5  353612088569350    0.0                   0.0  ...                 0       0     0\n",
              "6  356306056165153    0.0                   0.0  ...                 0       0     1\n",
              "7  356306054815734    0.2                   0.0  ...                 0       0     1\n",
              "8  353612087227729    0.0                   0.0  ...                 0       0     1\n",
              "9  353612088021931    0.0                   0.0  ...                 0       0     0\n",
              "\n",
              "[10 rows x 12 columns]"
            ]
          },
          "metadata": {
            "tags": []
          },
          "execution_count": 22
        }
      ]
    },
    {
      "cell_type": "markdown",
      "metadata": {
        "id": "QYU9j1daoTfF",
        "colab_type": "text"
      },
      "source": [
        "### (iv). Normalizing all the features to bring them in same scaler of 0 to 1."
      ]
    },
    {
      "cell_type": "code",
      "metadata": {
        "id": "G1iXClc9oN6C",
        "colab_type": "code",
        "colab": {}
      },
      "source": [
        "from sklearn import preprocessing\n",
        "\n",
        "cluster_calc_df_scaled = cluster_calc_df\n",
        "X =  preprocessing.scale(cluster_calc_df_scaled.drop('imei', axis=1)) #X_train"
      ],
      "execution_count": null,
      "outputs": []
    },
    {
      "cell_type": "markdown",
      "metadata": {
        "id": "qnCYQT3PookZ",
        "colab_type": "text"
      },
      "source": [
        "# Creating KMeans Clustering Classifier"
      ]
    },
    {
      "cell_type": "code",
      "metadata": {
        "id": "tn7-nljKoev6",
        "colab_type": "code",
        "colab": {
          "base_uri": "https://localhost:8080/",
          "height": 67
        },
        "outputId": "6171b103-f568-4d8d-aa56-acd8b303739f"
      },
      "source": [
        "kmeans = KMeans( n_clusters= 7)\n",
        "kmeans"
      ],
      "execution_count": null,
      "outputs": [
        {
          "output_type": "execute_result",
          "data": {
            "text/plain": [
              "KMeans(algorithm='auto', copy_x=True, init='k-means++', max_iter=300,\n",
              "       n_clusters=7, n_init=10, n_jobs=None, precompute_distances='auto',\n",
              "       random_state=None, tol=0.0001, verbose=0)"
            ]
          },
          "metadata": {
            "tags": []
          },
          "execution_count": 195
        }
      ]
    },
    {
      "cell_type": "code",
      "metadata": {
        "id": "JsQUYtIQow8K",
        "colab_type": "code",
        "colab": {}
      },
      "source": [
        "clustering_labels = kmeans.fit_predict(X)"
      ],
      "execution_count": null,
      "outputs": []
    },
    {
      "cell_type": "code",
      "metadata": {
        "id": "NHYfjJ2Do0Ga",
        "colab_type": "code",
        "colab": {}
      },
      "source": [
        "cluster_calc_df[\"clustering_labels\"] = clustering_labels\n",
        "cluster_calc_df_scaled[\"clustering_labels\"] = clustering_labels"
      ],
      "execution_count": null,
      "outputs": []
    },
    {
      "cell_type": "code",
      "metadata": {
        "id": "SJcu2euGo2P6",
        "colab_type": "code",
        "colab": {
          "base_uri": "https://localhost:8080/",
          "height": 151
        },
        "outputId": "28e8711a-acff-4bb1-9601-6a82e43e2aeb"
      },
      "source": [
        "cluster_calc_df[\"clustering_labels\"].value_counts()"
      ],
      "execution_count": null,
      "outputs": [
        {
          "output_type": "execute_result",
          "data": {
            "text/plain": [
              "3    3170734\n",
              "0    1514700\n",
              "2    1108178\n",
              "4     211896\n",
              "1      37240\n",
              "5       2420\n",
              "6          2\n",
              "Name: clustering_labels, dtype: int64"
            ]
          },
          "metadata": {
            "tags": []
          },
          "execution_count": 198
        }
      ]
    },
    {
      "cell_type": "code",
      "metadata": {
        "id": "mA3_QHLu5Mof",
        "colab_type": "code",
        "colab": {
          "base_uri": "https://localhost:8080/",
          "height": 34
        },
        "outputId": "851b9117-6bb3-4917-b62c-91320d1f020b"
      },
      "source": [
        "# Cluster 5 Category of Vehicles/Drivers have no transactions/commute. \n",
        "cluster_calc_df[cluster_calc_df['clustering_labels'] == 5]['speed'].mean()"
      ],
      "execution_count": null,
      "outputs": [
        {
          "output_type": "execute_result",
          "data": {
            "text/plain": [
              "84.4301652892562"
            ]
          },
          "metadata": {
            "tags": []
          },
          "execution_count": 199
        }
      ]
    },
    {
      "cell_type": "markdown",
      "metadata": {
        "id": "c5YN47qn5c80",
        "colab_type": "text"
      },
      "source": [
        "## NOTE : Cluster_label = 5, Vehicles/Drivers have zero average speed  and hence represents no commute. It is a wastage of organisational resource and should be appropriately treated/shunted. \n",
        "-------------------"
      ]
    },
    {
      "cell_type": "code",
      "metadata": {
        "id": "o2twdEBU37-Y",
        "colab_type": "code",
        "colab": {
          "base_uri": "https://localhost:8080/",
          "height": 34
        },
        "outputId": "2086e7cd-686f-40ef-fbe3-691b000272ce"
      },
      "source": [
        "# Cluster 2 Category of Vehicles/Drivers have very poor speed. \n",
        "cluster_calc_df[cluster_calc_df['clustering_labels'] == 2]['speed'].mean()"
      ],
      "execution_count": null,
      "outputs": [
        {
          "output_type": "execute_result",
          "data": {
            "text/plain": [
              "12.383208654203802"
            ]
          },
          "metadata": {
            "tags": []
          },
          "execution_count": 200
        }
      ]
    },
    {
      "cell_type": "markdown",
      "metadata": {
        "id": "BXQuMwEC4PEQ",
        "colab_type": "text"
      },
      "source": [
        "## NOTE : Cluster_label = 2, Vehicles/Drivers have a vely low average speed  and hence can be a indicator of suboptimal driving/poor route taken/peak hours. \n",
        "-------------------"
      ]
    },
    {
      "cell_type": "code",
      "metadata": {
        "id": "QibYADEDyLjM",
        "colab_type": "code",
        "colab": {
          "base_uri": "https://localhost:8080/",
          "height": 34
        },
        "outputId": "388b9d80-9bb0-4abc-b8b0-1f292a5e2a58"
      },
      "source": [
        "# Cluster 4Category of Vehicles/Drivers have a average speed of more than 80Kmph and hence can be evaluated. \n",
        "cluster_calc_df[cluster_calc_df['clustering_labels'] == 4]['speed'].mean()"
      ],
      "execution_count": null,
      "outputs": [
        {
          "output_type": "execute_result",
          "data": {
            "text/plain": [
              "5.5649139200362265"
            ]
          },
          "metadata": {
            "tags": []
          },
          "execution_count": 201
        }
      ]
    },
    {
      "cell_type": "code",
      "metadata": {
        "id": "FDo2_BUB6jd4",
        "colab_type": "code",
        "colab": {
          "base_uri": "https://localhost:8080/",
          "height": 151
        },
        "outputId": "f185cfff-427f-4fcd-fec9-87b0aa31a97f"
      },
      "source": [
        "# List of IMEI who are rash/overspeed driving\n",
        "rash_driving_imei_list = cluster_calc_df[cluster_calc_df['clustering_labels'] == 4]['imei'].unique().tolist()\n",
        "rash_driving_imei_list"
      ],
      "execution_count": null,
      "outputs": [
        {
          "output_type": "execute_result",
          "data": {
            "text/plain": [
              "['352353085225297',\n",
              " '352353085217898',\n",
              " '352353085222732',\n",
              " '356306056061600',\n",
              " '356306056091169',\n",
              " '352353085231550',\n",
              " '356306056981708',\n",
              " '356306056914139']"
            ]
          },
          "metadata": {
            "tags": []
          },
          "execution_count": 202
        }
      ]
    },
    {
      "cell_type": "markdown",
      "metadata": {
        "id": "jeJgFtnt3wdr",
        "colab_type": "text"
      },
      "source": [
        "## NOTE : Cluster_label = 4, Vehicles/Drivers have a average speed of more than 80Kmph and hence can be a indicator of rash driving.\n",
        "------------------"
      ]
    },
    {
      "cell_type": "code",
      "metadata": {
        "id": "xYHK65-u5Iqx",
        "colab_type": "code",
        "colab": {}
      },
      "source": [
        ""
      ],
      "execution_count": null,
      "outputs": []
    },
    {
      "cell_type": "markdown",
      "metadata": {
        "id": "St5D61Lio_B7",
        "colab_type": "text"
      },
      "source": [
        "# Visualization of Cluster <br>\n",
        "---------------\n",
        "### Our data has much higher dimensions i.e. 11 which is not possible to be visualized. <br>\n",
        "### Hence we will use PCA decomposition to reduce the number of features/dimensions to 3.\n",
        "### The these 3 Features can be visualized in a comprehensive manner\n",
        "----------------\n",
        "### NOTE : Here we will be only taking subset of data with 10 Million records, so that we can manage the memory and avoid any overflow/error"
      ]
    },
    {
      "cell_type": "code",
      "metadata": {
        "id": "bfyAb8mL4oVn",
        "colab_type": "code",
        "colab": {
          "base_uri": "https://localhost:8080/",
          "height": 232
        },
        "outputId": "3cf58d17-d98d-4c87-9deb-85ba126e8923"
      },
      "source": [
        "cluster_calc_df.head()"
      ],
      "execution_count": null,
      "outputs": [
        {
          "output_type": "execute_result",
          "data": {
            "text/html": [
              "<div>\n",
              "<style scoped>\n",
              "    .dataframe tbody tr th:only-of-type {\n",
              "        vertical-align: middle;\n",
              "    }\n",
              "\n",
              "    .dataframe tbody tr th {\n",
              "        vertical-align: top;\n",
              "    }\n",
              "\n",
              "    .dataframe thead th {\n",
              "        text-align: right;\n",
              "    }\n",
              "</style>\n",
              "<table border=\"1\" class=\"dataframe\">\n",
              "  <thead>\n",
              "    <tr style=\"text-align: right;\">\n",
              "      <th></th>\n",
              "      <th>imei</th>\n",
              "      <th>speed</th>\n",
              "      <th>time_difference_days</th>\n",
              "      <th>time_difference_hours</th>\n",
              "      <th>time_difference_minutes</th>\n",
              "      <th>time_difference_secs</th>\n",
              "      <th>Oversped</th>\n",
              "      <th>deltaDistance</th>\n",
              "      <th>Chennai</th>\n",
              "      <th>Maersk Bangalore</th>\n",
              "      <th>Mumbai</th>\n",
              "      <th>Pune</th>\n",
              "      <th>clustering_labels</th>\n",
              "    </tr>\n",
              "  </thead>\n",
              "  <tbody>\n",
              "    <tr>\n",
              "      <th>0</th>\n",
              "      <td>356306056969307</td>\n",
              "      <td>10.0</td>\n",
              "      <td>0.0</td>\n",
              "      <td>0.0</td>\n",
              "      <td>0.0</td>\n",
              "      <td>1.0</td>\n",
              "      <td>0.0</td>\n",
              "      <td>0.057193</td>\n",
              "      <td>0</td>\n",
              "      <td>0</td>\n",
              "      <td>0</td>\n",
              "      <td>1</td>\n",
              "      <td>3</td>\n",
              "    </tr>\n",
              "    <tr>\n",
              "      <th>1</th>\n",
              "      <td>868728032008770</td>\n",
              "      <td>0.0</td>\n",
              "      <td>0.0</td>\n",
              "      <td>0.0</td>\n",
              "      <td>0.0</td>\n",
              "      <td>2.0</td>\n",
              "      <td>0.0</td>\n",
              "      <td>0.000000</td>\n",
              "      <td>0</td>\n",
              "      <td>1</td>\n",
              "      <td>0</td>\n",
              "      <td>0</td>\n",
              "      <td>0</td>\n",
              "    </tr>\n",
              "    <tr>\n",
              "      <th>2</th>\n",
              "      <td>868728030767575</td>\n",
              "      <td>0.0</td>\n",
              "      <td>0.0</td>\n",
              "      <td>0.0</td>\n",
              "      <td>0.0</td>\n",
              "      <td>2.0</td>\n",
              "      <td>0.0</td>\n",
              "      <td>0.000000</td>\n",
              "      <td>0</td>\n",
              "      <td>1</td>\n",
              "      <td>0</td>\n",
              "      <td>0</td>\n",
              "      <td>0</td>\n",
              "    </tr>\n",
              "    <tr>\n",
              "      <th>3</th>\n",
              "      <td>868728039207045</td>\n",
              "      <td>0.0</td>\n",
              "      <td>0.0</td>\n",
              "      <td>0.0</td>\n",
              "      <td>0.0</td>\n",
              "      <td>2.0</td>\n",
              "      <td>0.0</td>\n",
              "      <td>0.000000</td>\n",
              "      <td>0</td>\n",
              "      <td>1</td>\n",
              "      <td>0</td>\n",
              "      <td>0</td>\n",
              "      <td>0</td>\n",
              "    </tr>\n",
              "    <tr>\n",
              "      <th>4</th>\n",
              "      <td>868728030809427</td>\n",
              "      <td>0.0</td>\n",
              "      <td>0.0</td>\n",
              "      <td>0.0</td>\n",
              "      <td>0.0</td>\n",
              "      <td>1.0</td>\n",
              "      <td>0.0</td>\n",
              "      <td>0.000000</td>\n",
              "      <td>0</td>\n",
              "      <td>1</td>\n",
              "      <td>0</td>\n",
              "      <td>0</td>\n",
              "      <td>0</td>\n",
              "    </tr>\n",
              "  </tbody>\n",
              "</table>\n",
              "</div>"
            ],
            "text/plain": [
              "              imei  speed  ...  Pune  clustering_labels\n",
              "0  356306056969307   10.0  ...     1                  3\n",
              "1  868728032008770    0.0  ...     0                  0\n",
              "2  868728030767575    0.0  ...     0                  0\n",
              "3  868728039207045    0.0  ...     0                  0\n",
              "4  868728030809427    0.0  ...     0                  0\n",
              "\n",
              "[5 rows x 13 columns]"
            ]
          },
          "metadata": {
            "tags": []
          },
          "execution_count": 203
        }
      ]
    },
    {
      "cell_type": "code",
      "metadata": {
        "id": "hdUsDCn24-43",
        "colab_type": "code",
        "colab": {
          "base_uri": "https://localhost:8080/",
          "height": 34
        },
        "outputId": "f0b4f808-b345-4c91-8624-57c62eccf1a1"
      },
      "source": [
        "cluster_calc_df.shape"
      ],
      "execution_count": null,
      "outputs": [
        {
          "output_type": "execute_result",
          "data": {
            "text/plain": [
              "(6045170, 13)"
            ]
          },
          "metadata": {
            "tags": []
          },
          "execution_count": 204
        }
      ]
    },
    {
      "cell_type": "code",
      "metadata": {
        "id": "UowjFA_50Rz9",
        "colab_type": "code",
        "colab": {}
      },
      "source": [
        "sub_df = (cluster_calc_df.drop(['imei'], axis=1))"
      ],
      "execution_count": null,
      "outputs": []
    },
    {
      "cell_type": "code",
      "metadata": {
        "id": "lhDc_u7w6ODm",
        "colab_type": "code",
        "colab": {}
      },
      "source": [
        "sub_df = sub_df.head(1000000)"
      ],
      "execution_count": null,
      "outputs": []
    },
    {
      "cell_type": "code",
      "metadata": {
        "id": "WGKNxqsxcD2t",
        "colab_type": "code",
        "colab": {
          "base_uri": "https://localhost:8080/",
          "height": 34
        },
        "outputId": "1431f39a-92d4-476f-9d6a-101a49adccdb"
      },
      "source": [
        "sub_df.shape"
      ],
      "execution_count": null,
      "outputs": [
        {
          "output_type": "execute_result",
          "data": {
            "text/plain": [
              "(1000000, 12)"
            ]
          },
          "metadata": {
            "tags": []
          },
          "execution_count": 207
        }
      ]
    },
    {
      "cell_type": "code",
      "metadata": {
        "id": "0HhtIv8uo4t6",
        "colab_type": "code",
        "colab": {
          "base_uri": "https://localhost:8080/",
          "height": 118
        },
        "outputId": "c45e69a0-a722-447b-f2e6-8c5112c1e7e8"
      },
      "source": [
        "pca = PCA(3) \n",
        "\n",
        "pca.fit(sub_df) \n",
        "\n",
        "pca_data = pd.DataFrame(pca.transform(sub_df)) \n",
        "\n",
        "print(pca_data.head())\n"
      ],
      "execution_count": null,
      "outputs": [
        {
          "output_type": "stream",
          "text": [
            "              0         1         2\n",
            "0 -44466.103375  0.850174  1.026694\n",
            "1 -44465.103489 -9.143586 -2.303596\n",
            "2 -44465.103489 -9.143586 -2.303596\n",
            "3 -44465.103489 -9.143586 -2.303596\n",
            "4 -44466.103350 -9.143599 -2.303965\n"
          ],
          "name": "stdout"
        }
      ]
    },
    {
      "cell_type": "code",
      "metadata": {
        "id": "FUEAuqwIpC2S",
        "colab_type": "code",
        "colab": {}
      },
      "source": [
        "from matplotlib import colors as mcolors \n",
        "import math \n",
        "\n",
        "''' Generating different colors in ascending order \n",
        "\t\t\t\t\t\t\t\tof their hsv values '''\n",
        "colors = list(zip(*sorted(( \n",
        "\t\t\t\t\ttuple(mcolors.rgb_to_hsv( \n",
        "\t\t\t\t\t\tmcolors.to_rgba(color)[:3])), name) \n",
        "\t\t\t\t\tfor name, color in dict( \n",
        "\t\t\t\t\t\t\tmcolors.BASE_COLORS, **mcolors.CSS4_COLORS \n",
        "\t\t\t\t\t\t\t\t\t\t\t\t\t).items())))[1] \n",
        "\n",
        "\n",
        "# number of steps to taken generate n(clusters) colors \n",
        "skips = math.floor(len(colors[5 : -5])/7) \n",
        "cluster_colors = colors[5 : -5 : skips]\n"
      ],
      "execution_count": null,
      "outputs": []
    },
    {
      "cell_type": "code",
      "metadata": {
        "id": "EhSevjfpslAH",
        "colab_type": "code",
        "colab": {}
      },
      "source": [
        "kmeans.labels_ = kmeans.labels_[:1000000]"
      ],
      "execution_count": null,
      "outputs": []
    },
    {
      "cell_type": "code",
      "metadata": {
        "id": "KbNu0eDjpEtK",
        "colab_type": "code",
        "colab": {
          "base_uri": "https://localhost:8080/",
          "height": 846
        },
        "outputId": "a4ffa2dc-a0ad-42c3-b5d1-ba27da20ecc2"
      },
      "source": [
        "from mpl_toolkits.mplot3d import Axes3D \n",
        "import matplotlib.pyplot as plt \n",
        "\n",
        "fig = plt.figure(figsize=(15,15)) \n",
        "ax = fig.add_subplot(111, projection = '3d') \n",
        "ax.scatter(pca_data[0], pca_data[1], pca_data[2],  \n",
        "           c = list(map(lambda label : cluster_colors[label], \n",
        "                                            kmeans.labels_))) \n",
        "\n",
        "str_labels = list(map(lambda label:'% s' % label, kmeans.labels_)) \n",
        "\n",
        "list(map(lambda data1, data2, data3, str_label: \n",
        "        ax.text(data1, data2, data3, s = str_label, size = 16.5, \n",
        "        zorder = 20, color = 'k'), pca_data[0], pca_data[1], \n",
        "        pca_data[2], str_labels)) \n",
        "\n",
        "plt.savefig(\"7_Cluster_10_Lakh_Datapoints1.png\")   \n",
        "plt.show()\n"
      ],
      "execution_count": null,
      "outputs": [
        {
          "output_type": "display_data",
          "data": {
            "image/png": "[encoded data removed]",
            "text/plain": [
              "<Figure size 1080x1080 with 1 Axes>"
            ]
          },
          "metadata": {
            "tags": [],
            "needs_background": "light"
          }
        }
      ]
    },
    {
      "cell_type": "code",
      "metadata": {
        "id": "GAlOkLJ7pHui",
        "colab_type": "code",
        "colab": {
          "base_uri": "https://localhost:8080/",
          "height": 418
        },
        "outputId": "073bca4e-d301-41ae-9f4a-05c48ccecc8e"
      },
      "source": [
        "sub_df"
      ],
      "execution_count": null,
      "outputs": [
        {
          "output_type": "execute_result",
          "data": {
            "text/html": [
              "<div>\n",
              "<style scoped>\n",
              "    .dataframe tbody tr th:only-of-type {\n",
              "        vertical-align: middle;\n",
              "    }\n",
              "\n",
              "    .dataframe tbody tr th {\n",
              "        vertical-align: top;\n",
              "    }\n",
              "\n",
              "    .dataframe thead th {\n",
              "        text-align: right;\n",
              "    }\n",
              "</style>\n",
              "<table border=\"1\" class=\"dataframe\">\n",
              "  <thead>\n",
              "    <tr style=\"text-align: right;\">\n",
              "      <th></th>\n",
              "      <th>speed</th>\n",
              "      <th>time_difference_days</th>\n",
              "      <th>time_difference_hours</th>\n",
              "      <th>time_difference_minutes</th>\n",
              "      <th>time_difference_secs</th>\n",
              "      <th>Oversped</th>\n",
              "      <th>deltaDistance</th>\n",
              "      <th>Chennai</th>\n",
              "      <th>Maersk Bangalore</th>\n",
              "      <th>Mumbai</th>\n",
              "      <th>Pune</th>\n",
              "      <th>clustering_labels</th>\n",
              "    </tr>\n",
              "  </thead>\n",
              "  <tbody>\n",
              "    <tr>\n",
              "      <th>0</th>\n",
              "      <td>10.0</td>\n",
              "      <td>0.0</td>\n",
              "      <td>0.0</td>\n",
              "      <td>0.0</td>\n",
              "      <td>1.0</td>\n",
              "      <td>0.0</td>\n",
              "      <td>0.057193</td>\n",
              "      <td>0</td>\n",
              "      <td>0</td>\n",
              "      <td>0</td>\n",
              "      <td>1</td>\n",
              "      <td>3</td>\n",
              "    </tr>\n",
              "    <tr>\n",
              "      <th>1</th>\n",
              "      <td>0.0</td>\n",
              "      <td>0.0</td>\n",
              "      <td>0.0</td>\n",
              "      <td>0.0</td>\n",
              "      <td>2.0</td>\n",
              "      <td>0.0</td>\n",
              "      <td>0.000000</td>\n",
              "      <td>0</td>\n",
              "      <td>1</td>\n",
              "      <td>0</td>\n",
              "      <td>0</td>\n",
              "      <td>0</td>\n",
              "    </tr>\n",
              "    <tr>\n",
              "      <th>2</th>\n",
              "      <td>0.0</td>\n",
              "      <td>0.0</td>\n",
              "      <td>0.0</td>\n",
              "      <td>0.0</td>\n",
              "      <td>2.0</td>\n",
              "      <td>0.0</td>\n",
              "      <td>0.000000</td>\n",
              "      <td>0</td>\n",
              "      <td>1</td>\n",
              "      <td>0</td>\n",
              "      <td>0</td>\n",
              "      <td>0</td>\n",
              "    </tr>\n",
              "    <tr>\n",
              "      <th>3</th>\n",
              "      <td>0.0</td>\n",
              "      <td>0.0</td>\n",
              "      <td>0.0</td>\n",
              "      <td>0.0</td>\n",
              "      <td>2.0</td>\n",
              "      <td>0.0</td>\n",
              "      <td>0.000000</td>\n",
              "      <td>0</td>\n",
              "      <td>1</td>\n",
              "      <td>0</td>\n",
              "      <td>0</td>\n",
              "      <td>0</td>\n",
              "    </tr>\n",
              "    <tr>\n",
              "      <th>4</th>\n",
              "      <td>0.0</td>\n",
              "      <td>0.0</td>\n",
              "      <td>0.0</td>\n",
              "      <td>0.0</td>\n",
              "      <td>1.0</td>\n",
              "      <td>0.0</td>\n",
              "      <td>0.000000</td>\n",
              "      <td>0</td>\n",
              "      <td>1</td>\n",
              "      <td>0</td>\n",
              "      <td>0</td>\n",
              "      <td>0</td>\n",
              "    </tr>\n",
              "    <tr>\n",
              "      <th>...</th>\n",
              "      <td>...</td>\n",
              "      <td>...</td>\n",
              "      <td>...</td>\n",
              "      <td>...</td>\n",
              "      <td>...</td>\n",
              "      <td>...</td>\n",
              "      <td>...</td>\n",
              "      <td>...</td>\n",
              "      <td>...</td>\n",
              "      <td>...</td>\n",
              "      <td>...</td>\n",
              "      <td>...</td>\n",
              "    </tr>\n",
              "    <tr>\n",
              "      <th>999995</th>\n",
              "      <td>9.0</td>\n",
              "      <td>0.0</td>\n",
              "      <td>0.0</td>\n",
              "      <td>0.0</td>\n",
              "      <td>1.0</td>\n",
              "      <td>0.0</td>\n",
              "      <td>0.023842</td>\n",
              "      <td>0</td>\n",
              "      <td>0</td>\n",
              "      <td>0</td>\n",
              "      <td>1</td>\n",
              "      <td>3</td>\n",
              "    </tr>\n",
              "    <tr>\n",
              "      <th>999996</th>\n",
              "      <td>7.0</td>\n",
              "      <td>0.0</td>\n",
              "      <td>0.0</td>\n",
              "      <td>0.0</td>\n",
              "      <td>0.0</td>\n",
              "      <td>0.0</td>\n",
              "      <td>0.039782</td>\n",
              "      <td>1</td>\n",
              "      <td>0</td>\n",
              "      <td>0</td>\n",
              "      <td>0</td>\n",
              "      <td>2</td>\n",
              "    </tr>\n",
              "    <tr>\n",
              "      <th>999997</th>\n",
              "      <td>0.0</td>\n",
              "      <td>0.0</td>\n",
              "      <td>0.0</td>\n",
              "      <td>0.0</td>\n",
              "      <td>0.0</td>\n",
              "      <td>0.0</td>\n",
              "      <td>0.000000</td>\n",
              "      <td>0</td>\n",
              "      <td>0</td>\n",
              "      <td>0</td>\n",
              "      <td>1</td>\n",
              "      <td>3</td>\n",
              "    </tr>\n",
              "    <tr>\n",
              "      <th>999998</th>\n",
              "      <td>1.0</td>\n",
              "      <td>0.0</td>\n",
              "      <td>0.0</td>\n",
              "      <td>0.0</td>\n",
              "      <td>2.0</td>\n",
              "      <td>0.0</td>\n",
              "      <td>0.000000</td>\n",
              "      <td>1</td>\n",
              "      <td>0</td>\n",
              "      <td>0</td>\n",
              "      <td>0</td>\n",
              "      <td>2</td>\n",
              "    </tr>\n",
              "    <tr>\n",
              "      <th>999999</th>\n",
              "      <td>0.0</td>\n",
              "      <td>0.0</td>\n",
              "      <td>0.0</td>\n",
              "      <td>0.0</td>\n",
              "      <td>0.0</td>\n",
              "      <td>0.0</td>\n",
              "      <td>0.000000</td>\n",
              "      <td>1</td>\n",
              "      <td>0</td>\n",
              "      <td>0</td>\n",
              "      <td>0</td>\n",
              "      <td>2</td>\n",
              "    </tr>\n",
              "  </tbody>\n",
              "</table>\n",
              "<p>1000000 rows × 12 columns</p>\n",
              "</div>"
            ],
            "text/plain": [
              "        speed  time_difference_days  ...  Pune  clustering_labels\n",
              "0        10.0                   0.0  ...     1                  3\n",
              "1         0.0                   0.0  ...     0                  0\n",
              "2         0.0                   0.0  ...     0                  0\n",
              "3         0.0                   0.0  ...     0                  0\n",
              "4         0.0                   0.0  ...     0                  0\n",
              "...       ...                   ...  ...   ...                ...\n",
              "999995    9.0                   0.0  ...     1                  3\n",
              "999996    7.0                   0.0  ...     0                  2\n",
              "999997    0.0                   0.0  ...     1                  3\n",
              "999998    1.0                   0.0  ...     0                  2\n",
              "999999    0.0                   0.0  ...     0                  2\n",
              "\n",
              "[1000000 rows x 12 columns]"
            ]
          },
          "metadata": {
            "tags": []
          },
          "execution_count": 212
        }
      ]
    },
    {
      "cell_type": "code",
      "metadata": {
        "id": "kj7TKCsk03ZV",
        "colab_type": "code",
        "colab": {}
      },
      "source": [
        ""
      ],
      "execution_count": null,
      "outputs": []
    }
  ]
}